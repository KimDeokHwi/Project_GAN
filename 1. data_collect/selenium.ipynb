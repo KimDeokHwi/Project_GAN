{
 "cells": [
  {
   "cell_type": "markdown",
   "metadata": {},
   "source": [
    "### selenium을 이용해 데이터셋 구축을 위한 크롤링\n",
    "* pip install selenium\n",
    "* pip install webdriver_manager"
   ]
  },
  {
   "cell_type": "code",
   "execution_count": 10,
   "metadata": {},
   "outputs": [],
   "source": [
    "import time\n",
    "import urllib.request\n",
    "\n",
    "from selenium import webdriver\n",
    "from selenium.webdriver.chrome.service import Service\n",
    "from selenium.webdriver.common.by import By\n",
    "from selenium.webdriver.support.ui import WebDriverWait\n",
    "from selenium.webdriver.support import expected_conditions as EC\n",
    "from webdriver_manager.chrome import ChromeDriverManager"
   ]
  },
  {
   "cell_type": "code",
   "execution_count": 9,
   "metadata": {},
   "outputs": [],
   "source": [
    "# Mac에서 실행할 때\n",
    "\n",
    "#from selenium import webdriver\n",
    "#from selenium.webdriver.chrome.service import Service\n",
    "#from webdriver_manager.chrome import ChromeDriverManager\n",
    "\n",
    "#driver = webdriver.Chrome(service=Service(ChromeDriverManager().install()))"
   ]
  },
  {
   "cell_type": "markdown",
   "metadata": {},
   "source": [
    "### 인스타그램에서 이미지 크롤링\n",
    "* 인스타그램은 인터페이스가 자주 바뀌기 때문에 크롤링을 위해선 코드를 주기적으로 최신화해줘야 한다."
   ]
  },
  {
   "cell_type": "code",
   "execution_count": null,
   "metadata": {},
   "outputs": [],
   "source": [
    "# 드라이버 설정 및 인스타그램 로그인\n",
    "driver = webdriver.Chrome(service=Service(ChromeDriverManager().install()))\n",
    "url = \"https://www.instagram.com/\"\n",
    "driver.get(url)\n",
    "\n",
    "wait = WebDriverWait(driver, 10)\n",
    "\n",
    "\n",
    "# 로그인 과정\n",
    "input_id = wait.until(EC.presence_of_element_located((By.CSS_SELECTOR, 'input[aria-label=\"전화번호, 사용자 이름 또는 이메일\"]')))\n",
    "input_id.clear()\n",
    "input_id.send_keys('인스타그램아이디')\n",
    "\n",
    "input_pw = wait.until(EC.presence_of_element_located((By.CSS_SELECTOR, 'input[aria-label=\"비밀번호\"]')))\n",
    "input_pw.clear()\n",
    "input_pw.send_keys('비밀번호')\n",
    "\n",
    "login_button = wait.until(EC.element_to_be_clickable((By.CSS_SELECTOR, 'button[type=\"submit\"]')))\n",
    "login_button.click()\n",
    "\n",
    "# \"나중에 하기\" 버튼 클릭\n",
    "try:\n",
    "    not_now_button = wait.until(EC.element_to_be_clickable((By.XPATH, \"//div[@role='button'][contains(text(), '나중에 하기')]\")))\n",
    "    not_now_button.click()\n",
    "except:\n",
    "    print(\"나중에 하기 버튼 클릭 실패\")\n",
    "\n",
    "print(\"로그인 완료\")\n",
    "\n",
    "svg_xpath = '//*[@id=\"mount_0_0_br\"]/div/div/div/div[2]/div/div/div[1]/div[1]/div[2]/div/div/div/div/div[2]/div[2]/span/div/a/div/div[1]/div/div/svg'\n",
    "\n",
    "\n",
    "# 페이지가 로드되었는지 확인 (네비게이션 바가 로드될 때까지 대기)\n",
    "WebDriverWait(driver, 5).until(\n",
    "    EC.presence_of_element_located((By.XPATH, \"//div[@role='navigation']\"))\n",
    ")\n",
    "\n",
    "time.sleep(3)\n",
    "\n",
    "# 돋보기 모양의 SVG 아이콘 클릭\n",
    "try : \n",
    "    search_button = wait.until(EC.element_to_be_clickable((By.XPATH, svg_xpath)))\n",
    "    search_button.click()\n",
    "except Exception as e : \n",
    "    print(f'svg 클릭실패{e}')\n",
    "    \n"
   ]
  },
  {
   "cell_type": "code",
   "execution_count": null,
   "metadata": {},
   "outputs": [],
   "source": [
    "search = \"#증명사진\" #검색할 키워드\n",
    "time.sleep(2)\n",
    "\n",
    "# 검색창 찾기 및 검색어 입력\n",
    "search_box = WebDriverWait(driver, 10).until(\n",
    "    EC.presence_of_element_located((By.XPATH, \"//input[@placeholder='검색']\"))\n",
    ")\n",
    "search_box.clear()\n",
    "search_box.send_keys(search)\n",
    "time.sleep(3)\n",
    "print(\"검색 완료\")\n",
    "\n",
    "# 첫 번째 검색 결과 클릭\n",
    "first_result = WebDriverWait(driver, 10).until(\n",
    "    EC.element_to_be_clickable((By.XPATH, f\"//div[contains(text(), '{search}')]\"))\n",
    ")\n",
    "first_result.click()\n",
    "\n",
    "# 스크롤 내리기\n",
    "SCROLL_PAUSE_TIME = 2 # 2초마다 스크롤 내리기\n",
    "last_height = driver.execute_script(\"return document.body.scrollHeight\")\n",
    "for _ in range(5):\n",
    "    driver.execute_script(\"window.scrollTo(0, document.body.scrollHeight);\")\n",
    "    time.sleep(SCROLL_PAUSE_TIME)\n",
    "    new_height = driver.execute_script(\"return document.body.scrollHeight\")\n",
    "    if new_height == last_height:\n",
    "        break\n",
    "    last_height = new_height\n",
    "\n",
    "# 이미지 찾기 및 다운로드\n",
    "images = driver.find_elements(By.XPATH, \"//img[@class='x5yr21d xu96u03 x10l6tqk x13vifvy x87ps6o xh8yej3']\")\n",
    "print(f\"총 {len(images)}개 이미지\")\n",
    "\n",
    "for count, image in enumerate(images):\n",
    "    try:\n",
    "        imgUrl = image.get_attribute(\"src\")\n",
    "        print(f\"{count+1}번째 이미지 저장 시작\")\n",
    "        urllib.request.urlretrieve(imgUrl, f\"{count+1}.jpg\")\n",
    "        print(f\"{count+1}번째 이미지 저장 완료\")\n",
    "        time.sleep(1)  # 다운로드 간 간격\n",
    "    except Exception as e:\n",
    "        print(f\"이미지 저장 실패: {e}\")"
   ]
  }
 ],
 "metadata": {
  "kernelspec": {
   "display_name": "Python 3",
   "language": "python",
   "name": "python3"
  },
  "language_info": {
   "codemirror_mode": {
    "name": "ipython",
    "version": 3
   },
   "file_extension": ".py",
   "mimetype": "text/x-python",
   "name": "python",
   "nbconvert_exporter": "python",
   "pygments_lexer": "ipython3",
   "version": "3.10.6"
  }
 },
 "nbformat": 4,
 "nbformat_minor": 2
}
