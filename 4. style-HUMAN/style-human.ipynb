{
 "cells": [
  {
   "cell_type": "markdown",
   "metadata": {},
   "source": [
    "### Style-Human\n",
    "* StyleGAN 모델을 기반으로 전신 이미지를 생성하는 데에 특화된 모델\n",
    "* https://github.com/stylegan-human/StyleGAN-Human"
   ]
  },
  {
   "cell_type": "code",
   "execution_count": 1,
   "metadata": {},
   "outputs": [
    {
     "name": "stdout",
     "output_type": "stream",
     "text": [
      "'StyleGAN-Human'에 복제합니다...\n",
      "remote: Enumerating objects: 361, done.\u001b[K\n",
      "remote: Counting objects: 100% (361/361), done.\u001b[K\n",
      "remote: Compressing objects: 100% (257/257), done.\u001b[K\n",
      "remote: Total 361 (delta 123), reused 301 (delta 98), pack-reused 0 (from 0)\u001b[K\n",
      "오브젝트를 받는 중: 100% (361/361), 74.85 MiB | 11.48 MiB/s, 완료.\n",
      "델타를 알아내는 중: 100% (123/123), 완료.\n"
     ]
    }
   ],
   "source": [
    "!git clone https://github.com/stylegan-human/StyleGAN-Human"
   ]
  },
  {
   "cell_type": "code",
   "execution_count": null,
   "metadata": {},
   "outputs": [],
   "source": []
  }
 ],
 "metadata": {
  "kernelspec": {
   "display_name": "Python 3",
   "language": "python",
   "name": "python3"
  },
  "language_info": {
   "codemirror_mode": {
    "name": "ipython",
    "version": 3
   },
   "file_extension": ".py",
   "mimetype": "text/x-python",
   "name": "python",
   "nbconvert_exporter": "python",
   "pygments_lexer": "ipython3",
   "version": "3.10.11"
  }
 },
 "nbformat": 4,
 "nbformat_minor": 2
}
