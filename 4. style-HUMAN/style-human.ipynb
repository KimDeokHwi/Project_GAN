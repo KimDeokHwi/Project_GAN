{
 "cells": [
  {
   "cell_type": "markdown",
   "metadata": {},
   "source": [
    "### Style-Human\n",
    "* StyleGAN 모델을 기반으로 전신 이미지를 생성하는 데에 특화된 모델\n",
    "* https://github.com/stylegan-human/StyleGAN-Human"
   ]
  },
  {
   "cell_type": "code",
   "execution_count": null,
   "metadata": {
    "vscode": {
     "languageId": "plaintext"
    }
   },
   "outputs": [],
   "source": [
    "!git clone https://github.com/stylegan-human/StyleGAN-Human"
   ]
  }
 ],
 "metadata": {
  "language_info": {
   "name": "python"
  }
 },
 "nbformat": 4,
 "nbformat_minor": 2
}
