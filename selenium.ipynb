{
 "cells": [
  {
   "cell_type": "markdown",
   "metadata": {},
   "source": [
    "### selenium을 이용해 데이터셋 구축을 위한 크롤링\n",
    "* pip install selenium\n",
    "* pip install webdriver_manager"
   ]
  },
  {
   "cell_type": "code",
   "execution_count": 3,
   "metadata": {},
   "outputs": [],
   "source": [
    "import time\n",
    "import urllib.request\n",
    "\n",
    "#from selenium.webdriver.common.keys import Keys\n",
    "#from selenium.webdriver.support.ui import WebDriverWait\n",
    "#from selenium.webdriver.support import expected_conditions as EC\n",
    "#from selenium.webdriver.common.by import By\n"
   ]
  },
  {
   "cell_type": "code",
   "execution_count": 9,
   "metadata": {},
   "outputs": [],
   "source": [
    "# Mac에서 실행할 때\n",
    "\n",
    "from selenium import webdriver\n",
    "from selenium.webdriver.chrome.service import Service\n",
    "from webdriver_manager.chrome import ChromeDriverManager\n",
    "\n",
    "driver = webdriver.Chrome(service=Service(ChromeDriverManager().install()))"
   ]
  },
  {
   "cell_type": "markdown",
   "metadata": {},
   "source": [
    "### 인스타그램에서 이미지 크롤링"
   ]
  },
  {
   "cell_type": "code",
   "execution_count": 10,
   "metadata": {},
   "outputs": [
    {
     "name": "stdout",
     "output_type": "stream",
     "text": [
      "로그인 완료\n"
     ]
    },
    {
     "ename": "TimeoutException",
     "evalue": "Message: \nStacktrace:\n0   chromedriver                        0x0000000100b8baf0 cxxbridge1$str$ptr + 3651580\n1   chromedriver                        0x0000000100b84340 cxxbridge1$str$ptr + 3620940\n2   chromedriver                        0x00000001005ec4b4 cxxbridge1$string$len + 89224\n3   chromedriver                        0x0000000100630898 cxxbridge1$string$len + 368748\n4   chromedriver                        0x000000010066a0fc cxxbridge1$string$len + 604368\n5   chromedriver                        0x00000001006250b0 cxxbridge1$string$len + 321668\n6   chromedriver                        0x0000000100625d00 cxxbridge1$string$len + 324820\n7   chromedriver                        0x0000000100b56e34 cxxbridge1$str$ptr + 3435328\n8   chromedriver                        0x0000000100b5a14c cxxbridge1$str$ptr + 3448408\n9   chromedriver                        0x0000000100b3e1a8 cxxbridge1$str$ptr + 3333812\n10  chromedriver                        0x0000000100b5aa0c cxxbridge1$str$ptr + 3450648\n11  chromedriver                        0x0000000100b2f9b4 cxxbridge1$str$ptr + 3274432\n12  chromedriver                        0x0000000100b75120 cxxbridge1$str$ptr + 3558956\n13  chromedriver                        0x0000000100b7529c cxxbridge1$str$ptr + 3559336\n14  chromedriver                        0x0000000100b83fb4 cxxbridge1$str$ptr + 3620032\n15  libsystem_pthread.dylib             0x000000018c7002e4 _pthread_start + 136\n16  libsystem_pthread.dylib             0x000000018c6fb0fc thread_start + 8\n",
     "output_type": "error",
     "traceback": [
      "\u001b[0;31m---------------------------------------------------------------------------\u001b[0m",
      "\u001b[0;31mTimeoutException\u001b[0m                          Traceback (most recent call last)",
      "Cell \u001b[0;32mIn[10], line 32\u001b[0m\n\u001b[1;32m     29\u001b[0m search \u001b[38;5;241m=\u001b[39m \u001b[38;5;124m\"\u001b[39m\u001b[38;5;124m#증명사진\u001b[39m\u001b[38;5;124m\"\u001b[39m  \u001b[38;5;66;03m# 검색할 키워드\u001b[39;00m\n\u001b[1;32m     31\u001b[0m \u001b[38;5;66;03m# 페이지가 로드되었는지 확인 (네비게이션 바가 로드될 때까지 대기)\u001b[39;00m\n\u001b[0;32m---> 32\u001b[0m \u001b[43mWebDriverWait\u001b[49m\u001b[43m(\u001b[49m\u001b[43mdriver\u001b[49m\u001b[43m,\u001b[49m\u001b[43m \u001b[49m\u001b[38;5;241;43m5\u001b[39;49m\u001b[43m)\u001b[49m\u001b[38;5;241;43m.\u001b[39;49m\u001b[43muntil\u001b[49m\u001b[43m(\u001b[49m\n\u001b[1;32m     33\u001b[0m \u001b[43m    \u001b[49m\u001b[43mEC\u001b[49m\u001b[38;5;241;43m.\u001b[39;49m\u001b[43mpresence_of_element_located\u001b[49m\u001b[43m(\u001b[49m\u001b[43m(\u001b[49m\u001b[43mBy\u001b[49m\u001b[38;5;241;43m.\u001b[39;49m\u001b[43mXPATH\u001b[49m\u001b[43m,\u001b[49m\u001b[43m \u001b[49m\u001b[38;5;124;43m\"\u001b[39;49m\u001b[38;5;124;43m//div[@role=\u001b[39;49m\u001b[38;5;124;43m'\u001b[39;49m\u001b[38;5;124;43mnavigation\u001b[39;49m\u001b[38;5;124;43m'\u001b[39;49m\u001b[38;5;124;43m]\u001b[39;49m\u001b[38;5;124;43m\"\u001b[39;49m\u001b[43m)\u001b[49m\u001b[43m)\u001b[49m\n\u001b[1;32m     34\u001b[0m \u001b[43m)\u001b[49m\n\u001b[1;32m     36\u001b[0m \u001b[38;5;66;03m# 돋보기 모양의 SVG 아이콘 클릭\u001b[39;00m\n\u001b[1;32m     37\u001b[0m search_button \u001b[38;5;241m=\u001b[39m WebDriverWait(driver, \u001b[38;5;241m5\u001b[39m)\u001b[38;5;241m.\u001b[39muntil(\n\u001b[1;32m     38\u001b[0m     EC\u001b[38;5;241m.\u001b[39melement_to_be_clickable((By\u001b[38;5;241m.\u001b[39mXPATH, \u001b[38;5;124m\"\u001b[39m\u001b[38;5;124m//a[@href=\u001b[39m\u001b[38;5;124m'\u001b[39m\u001b[38;5;124m/explore/\u001b[39m\u001b[38;5;124m'\u001b[39m\u001b[38;5;124m]\u001b[39m\u001b[38;5;124m\"\u001b[39m))\n\u001b[1;32m     39\u001b[0m )\n",
      "File \u001b[0;32m/Library/Frameworks/Python.framework/Versions/3.10/lib/python3.10/site-packages/selenium/webdriver/support/wait.py:105\u001b[0m, in \u001b[0;36mWebDriverWait.until\u001b[0;34m(self, method, message)\u001b[0m\n\u001b[1;32m    103\u001b[0m         \u001b[38;5;28;01mbreak\u001b[39;00m\n\u001b[1;32m    104\u001b[0m     time\u001b[38;5;241m.\u001b[39msleep(\u001b[38;5;28mself\u001b[39m\u001b[38;5;241m.\u001b[39m_poll)\n\u001b[0;32m--> 105\u001b[0m \u001b[38;5;28;01mraise\u001b[39;00m TimeoutException(message, screen, stacktrace)\n",
      "\u001b[0;31mTimeoutException\u001b[0m: Message: \nStacktrace:\n0   chromedriver                        0x0000000100b8baf0 cxxbridge1$str$ptr + 3651580\n1   chromedriver                        0x0000000100b84340 cxxbridge1$str$ptr + 3620940\n2   chromedriver                        0x00000001005ec4b4 cxxbridge1$string$len + 89224\n3   chromedriver                        0x0000000100630898 cxxbridge1$string$len + 368748\n4   chromedriver                        0x000000010066a0fc cxxbridge1$string$len + 604368\n5   chromedriver                        0x00000001006250b0 cxxbridge1$string$len + 321668\n6   chromedriver                        0x0000000100625d00 cxxbridge1$string$len + 324820\n7   chromedriver                        0x0000000100b56e34 cxxbridge1$str$ptr + 3435328\n8   chromedriver                        0x0000000100b5a14c cxxbridge1$str$ptr + 3448408\n9   chromedriver                        0x0000000100b3e1a8 cxxbridge1$str$ptr + 3333812\n10  chromedriver                        0x0000000100b5aa0c cxxbridge1$str$ptr + 3450648\n11  chromedriver                        0x0000000100b2f9b4 cxxbridge1$str$ptr + 3274432\n12  chromedriver                        0x0000000100b75120 cxxbridge1$str$ptr + 3558956\n13  chromedriver                        0x0000000100b7529c cxxbridge1$str$ptr + 3559336\n14  chromedriver                        0x0000000100b83fb4 cxxbridge1$str$ptr + 3620032\n15  libsystem_pthread.dylib             0x000000018c7002e4 _pthread_start + 136\n16  libsystem_pthread.dylib             0x000000018c6fb0fc thread_start + 8\n"
     ]
    }
   ],
   "source": [
    "# 드라이버 설정 및 인스타그램 로그인\n",
    "#driver = webdriver.Chrome(service=ChromeService(ChromeDriverManager().install()))\n",
    "url = \"https://www.instagram.com/\"\n",
    "driver.get(url)\n",
    "\n",
    "wait = WebDriverWait(driver, 10)\n",
    "\n",
    "# 로그인 과정\n",
    "input_id = wait.until(EC.presence_of_element_located((By.CSS_SELECTOR, 'input[aria-label=\"전화번호, 사용자 이름 또는 이메일\"]')))\n",
    "input_id.clear()\n",
    "input_id.send_keys('01088721536')\n",
    "\n",
    "input_pw = wait.until(EC.presence_of_element_located((By.CSS_SELECTOR, 'input[aria-label=\"비밀번호\"]')))\n",
    "input_pw.clear()\n",
    "input_pw.send_keys('glanfk13!')\n",
    "\n",
    "login_button = wait.until(EC.element_to_be_clickable((By.CSS_SELECTOR, 'button[type=\"submit\"]')))\n",
    "login_button.click()\n",
    "\n",
    "# \"나중에 하기\" 버튼 클릭 시도\n",
    "try:\n",
    "    not_now_button = wait.until(EC.element_to_be_clickable((By.XPATH, \"//div[@role='button'][contains(text(), '나중에 하기')]\")))\n",
    "    not_now_button.click()\n",
    "except:\n",
    "    print(\"나중에 하기 버튼 클릭 실패\")\n",
    "\n",
    "print(\"로그인 완료\")\n",
    "\n",
    "search = \"#증명사진\"  # 검색할 키워드\n",
    "\n",
    "# 페이지가 로드되었는지 확인 (네비게이션 바가 로드될 때까지 대기)\n",
    "WebDriverWait(driver, 5).until(\n",
    "    EC.presence_of_element_located((By.XPATH, \"//div[@role='navigation']\"))\n",
    ")\n",
    "\n",
    "# 돋보기 모양의 SVG 아이콘 클릭\n",
    "search_button = WebDriverWait(driver, 5).until(\n",
    "    EC.element_to_be_clickable((By.XPATH, \"//a[@href='/explore/']\"))\n",
    ")\n",
    "search_button.click()\n",
    "\n",
    "# 검색창 찾기\n",
    "search_box = WebDriverWait(driver, 10).until(\n",
    "    EC.presence_of_element_located((By.XPATH, \"//input[@placeholder='검색']\"))\n",
    ")\n",
    "\n",
    "# 검색어 입력\n",
    "search_box.clear()\n",
    "search_box.send_keys(search)\n",
    "\n",
    "# 첫 번째 추천 검색어 클릭 (검색 결과 대기)\n",
    "first_suggestion = WebDriverWait(driver, 10).until(\n",
    "    EC.element_to_be_clickable((By.XPATH, f\"//div[contains(text(), '{search}')]\"))\n",
    ")\n",
    "first_suggestion.click()\n",
    "\n",
    "print(\"검색 완료\")"
   ]
  },
  {
   "cell_type": "code",
   "execution_count": null,
   "metadata": {},
   "outputs": [],
   "source": []
  }
 ],
 "metadata": {
  "kernelspec": {
   "display_name": "Python 3",
   "language": "python",
   "name": "python3"
  },
  "language_info": {
   "codemirror_mode": {
    "name": "ipython",
    "version": 3
   },
   "file_extension": ".py",
   "mimetype": "text/x-python",
   "name": "python",
   "nbconvert_exporter": "python",
   "pygments_lexer": "ipython3",
   "version": "3.10.11"
  }
 },
 "nbformat": 4,
 "nbformat_minor": 2
}
