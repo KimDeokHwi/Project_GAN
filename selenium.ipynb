{
 "cells": [
  {
   "cell_type": "markdown",
   "metadata": {},
   "source": [
    "### selenium을 이용해 데이터셋 구축을 위한 크롤링\n",
    "* pip install selenium\n",
    "* pip install webdriver_manager"
   ]
  },
  {
   "cell_type": "code",
   "execution_count": 10,
   "metadata": {},
   "outputs": [],
   "source": [
    "import time\n",
    "import urllib.request\n",
    "\n",
    "from selenium import webdriver\n",
    "from selenium.webdriver.chrome.service import Service\n",
    "from selenium.webdriver.common.by import By\n",
    "from selenium.webdriver.support.ui import WebDriverWait\n",
    "from selenium.webdriver.support import expected_conditions as EC\n",
    "from webdriver_manager.chrome import ChromeDriverManager"
   ]
  },
  {
   "cell_type": "code",
   "execution_count": 9,
   "metadata": {},
   "outputs": [],
   "source": [
    "# Mac에서 실행할 때\n",
    "\n",
    "#from selenium import webdriver\n",
    "#from selenium.webdriver.chrome.service import Service\n",
    "#from webdriver_manager.chrome import ChromeDriverManager\n",
    "\n",
    "#driver = webdriver.Chrome(service=Service(ChromeDriverManager().install()))"
   ]
  },
  {
   "cell_type": "markdown",
   "metadata": {},
   "source": [
    "### 인스타그램에서 이미지 크롤링"
   ]
  },
  {
   "cell_type": "code",
   "execution_count": 18,
   "metadata": {},
   "outputs": [
    {
     "name": "stdout",
     "output_type": "stream",
     "text": [
      "로그인 완료\n"
     ]
    },
    {
     "ename": "TimeoutException",
     "evalue": "Message: \nStacktrace:\n\tGetHandleVerifier [0x00A934A3+25059]\n\t(No symbol) [0x00A1CEA4]\n\t(No symbol) [0x008FBEC3]\n\t(No symbol) [0x0093FD86]\n\t(No symbol) [0x0093FFCB]\n\t(No symbol) [0x0097D952]\n\t(No symbol) [0x00961F44]\n\t(No symbol) [0x0097B51E]\n\t(No symbol) [0x00961C96]\n\t(No symbol) [0x00933FAC]\n\t(No symbol) [0x00934F3D]\n\tGetHandleVerifier [0x00D85613+3113811]\n\tGetHandleVerifier [0x00D9A2DA+3199002]\n\tGetHandleVerifier [0x00D92AB2+3168242]\n\tGetHandleVerifier [0x00B33310+680016]\n\t(No symbol) [0x00A257ED]\n\t(No symbol) [0x00A22A98]\n\t(No symbol) [0x00A22C35]\n\t(No symbol) [0x00A15890]\n\tBaseThreadInitThunk [0x76785D49+25]\n\tRtlInitializeExceptionChain [0x776CCEBB+107]\n\tRtlGetAppContainerNamedObjectPath [0x776CCE41+561]\n",
     "output_type": "error",
     "traceback": [
      "\u001b[1;31m---------------------------------------------------------------------------\u001b[0m",
      "\u001b[1;31mTimeoutException\u001b[0m                          Traceback (most recent call last)",
      "Cell \u001b[1;32mIn[18], line 35\u001b[0m\n\u001b[0;32m     31\u001b[0m svg_xpath \u001b[38;5;241m=\u001b[39m \u001b[38;5;124m'\u001b[39m\u001b[38;5;124m//*[@id=\u001b[39m\u001b[38;5;124m\"\u001b[39m\u001b[38;5;124mmount_0_0_br\u001b[39m\u001b[38;5;124m\"\u001b[39m\u001b[38;5;124m]/div/div/div/div[2]/div/div/div[1]/div[1]/div[2]/div/div/div/div/div[2]/div[2]/span/div/a/div/div[1]/div/div/svg\u001b[39m\u001b[38;5;124m'\u001b[39m\n\u001b[0;32m     34\u001b[0m \u001b[38;5;66;03m# 페이지가 로드되었는지 확인 (네비게이션 바가 로드될 때까지 대기)\u001b[39;00m\n\u001b[1;32m---> 35\u001b[0m \u001b[43mWebDriverWait\u001b[49m\u001b[43m(\u001b[49m\u001b[43mdriver\u001b[49m\u001b[43m,\u001b[49m\u001b[43m \u001b[49m\u001b[38;5;241;43m5\u001b[39;49m\u001b[43m)\u001b[49m\u001b[38;5;241;43m.\u001b[39;49m\u001b[43muntil\u001b[49m\u001b[43m(\u001b[49m\n\u001b[0;32m     36\u001b[0m \u001b[43m    \u001b[49m\u001b[43mEC\u001b[49m\u001b[38;5;241;43m.\u001b[39;49m\u001b[43mpresence_of_element_located\u001b[49m\u001b[43m(\u001b[49m\u001b[43m(\u001b[49m\u001b[43mBy\u001b[49m\u001b[38;5;241;43m.\u001b[39;49m\u001b[43mXPATH\u001b[49m\u001b[43m,\u001b[49m\u001b[43m \u001b[49m\u001b[38;5;124;43m\"\u001b[39;49m\u001b[38;5;124;43m//div[@role=\u001b[39;49m\u001b[38;5;124;43m'\u001b[39;49m\u001b[38;5;124;43mnavigation\u001b[39;49m\u001b[38;5;124;43m'\u001b[39;49m\u001b[38;5;124;43m]\u001b[39;49m\u001b[38;5;124;43m\"\u001b[39;49m\u001b[43m)\u001b[49m\u001b[43m)\u001b[49m\n\u001b[0;32m     37\u001b[0m \u001b[43m)\u001b[49m\n\u001b[0;32m     39\u001b[0m time\u001b[38;5;241m.\u001b[39msleep(\u001b[38;5;241m3\u001b[39m)\n\u001b[0;32m     41\u001b[0m \u001b[38;5;66;03m# 돋보기 모양의 SVG 아이콘 클릭\u001b[39;00m\n",
      "File \u001b[1;32mc:\\Users\\user\\AppData\\Local\\Programs\\Python\\Python310\\lib\\site-packages\\selenium\\webdriver\\support\\wait.py:105\u001b[0m, in \u001b[0;36mWebDriverWait.until\u001b[1;34m(self, method, message)\u001b[0m\n\u001b[0;32m    103\u001b[0m         \u001b[38;5;28;01mbreak\u001b[39;00m\n\u001b[0;32m    104\u001b[0m     time\u001b[38;5;241m.\u001b[39msleep(\u001b[38;5;28mself\u001b[39m\u001b[38;5;241m.\u001b[39m_poll)\n\u001b[1;32m--> 105\u001b[0m \u001b[38;5;28;01mraise\u001b[39;00m TimeoutException(message, screen, stacktrace)\n",
      "\u001b[1;31mTimeoutException\u001b[0m: Message: \nStacktrace:\n\tGetHandleVerifier [0x00A934A3+25059]\n\t(No symbol) [0x00A1CEA4]\n\t(No symbol) [0x008FBEC3]\n\t(No symbol) [0x0093FD86]\n\t(No symbol) [0x0093FFCB]\n\t(No symbol) [0x0097D952]\n\t(No symbol) [0x00961F44]\n\t(No symbol) [0x0097B51E]\n\t(No symbol) [0x00961C96]\n\t(No symbol) [0x00933FAC]\n\t(No symbol) [0x00934F3D]\n\tGetHandleVerifier [0x00D85613+3113811]\n\tGetHandleVerifier [0x00D9A2DA+3199002]\n\tGetHandleVerifier [0x00D92AB2+3168242]\n\tGetHandleVerifier [0x00B33310+680016]\n\t(No symbol) [0x00A257ED]\n\t(No symbol) [0x00A22A98]\n\t(No symbol) [0x00A22C35]\n\t(No symbol) [0x00A15890]\n\tBaseThreadInitThunk [0x76785D49+25]\n\tRtlInitializeExceptionChain [0x776CCEBB+107]\n\tRtlGetAppContainerNamedObjectPath [0x776CCE41+561]\n"
     ]
    }
   ],
   "source": [
    "# 드라이버 설정 및 인스타그램 로그인\n",
    "driver = webdriver.Chrome(service=Service(ChromeDriverManager().install()))\n",
    "url = \"https://www.instagram.com/\"\n",
    "driver.get(url)\n",
    "\n",
    "wait = WebDriverWait(driver, 10)\n",
    "\n",
    "\n",
    "# 로그인 과정\n",
    "input_id = wait.until(EC.presence_of_element_located((By.CSS_SELECTOR, 'input[aria-label=\"전화번호, 사용자 이름 또는 이메일\"]')))\n",
    "input_id.clear()\n",
    "input_id.send_keys('___')\n",
    "\n",
    "input_pw = wait.until(EC.presence_of_element_located((By.CSS_SELECTOR, 'input[aria-label=\"비밀번호\"]')))\n",
    "input_pw.clear()\n",
    "input_pw.send_keys('___')\n",
    "\n",
    "login_button = wait.until(EC.element_to_be_clickable((By.CSS_SELECTOR, 'button[type=\"submit\"]')))\n",
    "login_button.click()\n",
    "\n",
    "# \"나중에 하기\" 버튼 클릭\n",
    "try:\n",
    "    not_now_button = wait.until(EC.element_to_be_clickable((By.XPATH, \"//div[@role='button'][contains(text(), '나중에 하기')]\")))\n",
    "    not_now_button.click()\n",
    "except:\n",
    "    print(\"나중에 하기 버튼 클릭 실패\")\n",
    "\n",
    "print(\"로그인 완료\")\n",
    "\n",
    "search = \"#증명사진\"  # 검색할 키워드\n",
    "svg_xpath = '//*[@id=\"mount_0_0_br\"]/div/div/div/div[2]/div/div/div[1]/div[1]/div[2]/div/div/div/div/div[2]/div[2]/span/div/a/div/div[1]/div/div/svg'\n",
    "\n",
    "\n",
    "# 페이지가 로드되었는지 확인 (네비게이션 바가 로드될 때까지 대기)\n",
    "WebDriverWait(driver, 5).until(\n",
    "    EC.presence_of_element_located((By.XPATH, \"//div[@role='navigation']\"))\n",
    ")\n",
    "\n",
    "time.sleep(3)\n",
    "\n",
    "# 돋보기 모양의 SVG 아이콘 클릭\n",
    "try : \n",
    "    search_button = wait.until(EC.element_to_be_clickable((By.XPATH, svg_xpath)))\n",
    "    search_button.click()\n",
    "except Exception as e : \n",
    "    print(f'svg 클릭실패{e}')\n",
    "    \n",
    "\n",
    "# 검색창 찾기\n",
    "search_box = WebDriverWait(driver, 10).until(\n",
    "    EC.presence_of_element_located((By.XPATH, \"//input[@placeholder='검색']\"))\n",
    ")\n",
    "\n",
    "# 검색어 입력\n",
    "search_box.clear()\n",
    "search_box.send_keys(search)\n",
    "\n",
    "# 첫 번째 추천 검색어 클릭 (검색 결과 대기)\n",
    "first_suggestion = WebDriverWait(driver, 10).until(\n",
    "    EC.element_to_be_clickable((By.XPATH, f\"//div[contains(text(), '{search}')]\"))\n",
    ")\n",
    "first_suggestion.click()\n",
    "\n",
    "print(\"검색 완료\")"
   ]
  },
  {
   "cell_type": "code",
   "execution_count": null,
   "metadata": {},
   "outputs": [],
   "source": []
  }
 ],
 "metadata": {
  "kernelspec": {
   "display_name": "Python 3",
   "language": "python",
   "name": "python3"
  },
  "language_info": {
   "codemirror_mode": {
    "name": "ipython",
    "version": 3
   },
   "file_extension": ".py",
   "mimetype": "text/x-python",
   "name": "python",
   "nbconvert_exporter": "python",
   "pygments_lexer": "ipython3",
   "version": "3.10.6"
  }
 },
 "nbformat": 4,
 "nbformat_minor": 2
}
