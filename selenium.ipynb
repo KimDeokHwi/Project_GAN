{
 "cells": [
  {
   "cell_type": "markdown",
   "metadata": {},
   "source": [
    "### selenium을 이용해 데이터셋 구축을 위한 크롤링\n",
    "* pip install selenium\n",
    "* pip install webdriver_manager"
   ]
  },
  {
   "cell_type": "code",
   "execution_count": 11,
   "metadata": {},
   "outputs": [],
   "source": [
    "import time\n",
    "import urllib.request\n",
    "\n",
    "from selenium.webdriver.support.ui import WebDriverWait\n",
    "from selenium.webdriver.support import expected_conditions as EC\n",
    "from selenium.webdriver.common.by import By\n"
   ]
  },
  {
   "cell_type": "markdown",
   "metadata": {},
   "source": [
    "### 인스타그램에서 이미지 크롤링"
   ]
  },
  {
   "cell_type": "code",
   "execution_count": 33,
   "metadata": {},
   "outputs": [
    {
     "name": "stdout",
     "output_type": "stream",
     "text": [
      "로그인 완료\n"
     ]
    }
   ],
   "source": [
    "driver = webdriver.Chrome(service=ChromeService(ChromeDriverManager().install()))\n",
    "url = \"https://www.instagram.com/\"\n",
    "driver.get(url)\n",
    "\n",
    "wait = WebDriverWait(driver, 10)\n",
    "\n",
    "input_id = wait.until(EC.presence_of_element_located((By.CSS_SELECTOR, 'input[aria-label=\"전화번호, 사용자 이름 또는 이메일\"]')))\n",
    "input_id.clear()\n",
    "input_id.send_keys('___')\n",
    "\n",
    "input_pw = wait.until(EC.presence_of_element_located((By.CSS_SELECTOR, 'input[aria-label=\"비밀번호\"]')))\n",
    "input_pw.clear()\n",
    "input_pw.send_keys('___')\n",
    "\n",
    "login_button = wait.until(EC.element_to_be_clickable((By.CSS_SELECTOR, 'button[type=\"submit\"]')))\n",
    "login_button.click()\n",
    "\n",
    "try:\n",
    "    not_now_button = wait.until(EC.element_to_be_clickable((By.XPATH, \"//div[@role='button'][contains(text(), '나중에 하기')]\")))\n",
    "    not_now_button.click()\n",
    "except:\n",
    "    print(\"나중에 하기 버튼 클릭 실패\")\n",
    "\n",
    "print(\"로그인 완료\")"
   ]
  }
 ],
 "metadata": {
  "kernelspec": {
   "display_name": "Python 3",
   "language": "python",
   "name": "python3"
  },
  "language_info": {
   "codemirror_mode": {
    "name": "ipython",
    "version": 3
   },
   "file_extension": ".py",
   "mimetype": "text/x-python",
   "name": "python",
   "nbconvert_exporter": "python",
   "pygments_lexer": "ipython3",
   "version": "3.10.6"
  }
 },
 "nbformat": 4,
 "nbformat_minor": 2
}
