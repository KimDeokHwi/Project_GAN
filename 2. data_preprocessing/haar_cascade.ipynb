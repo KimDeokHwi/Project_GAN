{
 "cells": [
  {
   "cell_type": "markdown",
   "metadata": {},
   "source": [
    "## haar cascade\n",
    "\n",
    "* 2001년 Rapid Object Detection using a Boosted Cascade of Simple Features 논문에서 발표된 객체 검출기\n",
    "* 사전 훈련된 xml 파일 제공\n",
    "* 위 xml 파일은 현재 디렉토리에 저장해야 함 \n",
    "* [haarcascade github](https://github.com/opencv/opencv/tree/master/data/haarcascades)"
   ]
  }
 ],
 "metadata": {
  "language_info": {
   "name": "python"
  }
 },
 "nbformat": 4,
 "nbformat_minor": 2
}
