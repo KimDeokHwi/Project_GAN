{
 "cells": [
  {
   "cell_type": "markdown",
   "metadata": {},
   "source": [
    "### StyleGAN2-ada-pytorch 모델 사용"
   ]
  },
  {
   "cell_type": "markdown",
   "metadata": {},
   "source": [
    "* git clone https://github.com/NVlabs/stylegan2-ada-pytorch\n",
    "* 터미널에서 명령어 실행\n",
    "* 필요 라이브러리 설치 pip install click requests tqdm pyspng ninja imageio-ffmpeg==0.4.3"
   ]
  },
  {
   "cell_type": "code",
   "execution_count": 2,
   "metadata": {},
   "outputs": [
    {
     "name": "stderr",
     "output_type": "stream",
     "text": [
      "Cloning into 'stylegan2-ada-pytorch'...\n"
     ]
    }
   ],
   "source": [
    "!git clone https://github.com/NVlabs/stylegan2-ada-pytorch"
   ]
  },
  {
   "cell_type": "code",
   "execution_count": 3,
   "metadata": {},
   "outputs": [
    {
     "name": "stdout",
     "output_type": "stream",
     "text": [
      "Requirement already satisfied: click in c:\\users\\user\\appdata\\local\\programs\\python\\python310\\lib\\site-packages (8.1.7)\n",
      "Requirement already satisfied: requests in c:\\users\\user\\appdata\\local\\programs\\python\\python310\\lib\\site-packages (2.32.3)\n",
      "Requirement already satisfied: tqdm in c:\\users\\user\\appdata\\local\\programs\\python\\python310\\lib\\site-packages (4.66.5)\n",
      "Requirement already satisfied: pyspng in c:\\users\\user\\appdata\\local\\programs\\python\\python310\\lib\\site-packages (0.1.2)\n",
      "Requirement already satisfied: ninja in c:\\users\\user\\appdata\\local\\programs\\python\\python310\\lib\\site-packages (1.11.1.3)\n",
      "Requirement already satisfied: imageio-ffmpeg==0.4.3 in c:\\users\\user\\appdata\\local\\programs\\python\\python310\\lib\\site-packages (0.4.3)\n",
      "Requirement already satisfied: colorama in c:\\users\\user\\appdata\\roaming\\python\\python310\\site-packages (from click) (0.4.6)\n",
      "Requirement already satisfied: charset-normalizer<4,>=2 in c:\\users\\user\\appdata\\local\\programs\\python\\python310\\lib\\site-packages (from requests) (3.3.2)\n",
      "Requirement already satisfied: idna<4,>=2.5 in c:\\users\\user\\appdata\\local\\programs\\python\\python310\\lib\\site-packages (from requests) (3.7)\n",
      "Requirement already satisfied: urllib3<3,>=1.21.1 in c:\\users\\user\\appdata\\local\\programs\\python\\python310\\lib\\site-packages (from requests) (2.2.2)\n",
      "Requirement already satisfied: certifi>=2017.4.17 in c:\\users\\user\\appdata\\local\\programs\\python\\python310\\lib\\site-packages (from requests) (2024.7.4)\n",
      "Requirement already satisfied: numpy in c:\\users\\user\\appdata\\local\\programs\\python\\python310\\lib\\site-packages (from pyspng) (1.26.4)\n"
     ]
    }
   ],
   "source": [
    "!pip install click requests tqdm pyspng ninja imageio-ffmpeg==0.4.3"
   ]
  },
  {
   "cell_type": "code",
   "execution_count": 25,
   "metadata": {},
   "outputs": [
    {
     "name": "stderr",
     "output_type": "stream",
     "text": [
      "���� �̸�, ���͸� �̸� �Ǵ� ���� ���̺� ������ �߸��Ǿ����ϴ�.\n"
     ]
    }
   ],
   "source": [
    "# stylegan2-ada-pytorch 폴더로 이동\n",
    "!cd 'D:\\\\project\\\\GAN\\\\3. styleGAN2-ada-pytorch\\\\stylegan2-ada-pytorch'"
   ]
  },
  {
   "cell_type": "code",
   "execution_count": 26,
   "metadata": {},
   "outputs": [
    {
     "name": "stdout",
     "output_type": "stream",
     "text": [
      "d:\\project\\GAN\\3. styleGAN2-ada-pytorch\n"
     ]
    }
   ],
   "source": [
    "import os\n",
    "current = os.getcwd()\n",
    "print(current)"
   ]
  },
  {
   "cell_type": "markdown",
   "metadata": {},
   "source": [
    "### 데이터셋 준비\n",
    "* python dataset.py --source=./images --dest=./data/stylegan2-dataset.zip --width=512 --height=512\n",
    "\n",
    "\n",
    "    * 1. python dataset_tool.py: dataset_tool.py 스크립트를 실행해서 원본 이미지들을 StyleGAN2 학습에 적합한 형식으로 변환\n",
    "    * 2. --source=./images: 원본 이미지가 있는 디렉토리를 지정. 여기서는 현재 디렉토리의 'images' 폴더\n",
    "    * 3. --dest=./data/stylegan2-dataset.zip: 변환된 데이터셋이 저장될 위치와 파일명 지정. 이 경우 'data' 폴더 안에 'stylegan2-dataset.zip'이라는 이름으로 저장\n",
    "    * 4. --width=256 --height=256: 출력 이미지의 크기 설정"
   ]
  },
  {
   "cell_type": "code",
   "execution_count": 21,
   "metadata": {},
   "outputs": [
    {
     "name": "stderr",
     "output_type": "stream",
     "text": [
      "python: can't open file 'd:\\\\project\\\\GAN\\\\3. styleGAN2-ada-pytorch\\\\dataset_tool.py': [Errno 2] No such file or directory\n"
     ]
    }
   ],
   "source": [
    "!python dataset_tool.py --source=./images --dest=./data/stylegan2-dataset.zip --width=512 --height=512"
   ]
  },
  {
   "cell_type": "markdown",
   "metadata": {},
   "source": [
    "### 모델 학습\n",
    "* python train.py --outdir=runs --data=./data/stylegan2-dataset.zip --gpus=1 --aug=ada --target=0.7\n",
    "    * 1. --outdir=runs : 훈련 결과물이 저장될 디렉토리를 지정. 여기서는 'runs' 폴더에 저장\n",
    "    * 2. --data=./data/stylegan2-dataset.zip : 훈련에 사용될 데이터셋의 위치를 지정. './data/stylegan2-dataset.zip' 파일에 데이터셋이 있음\n",
    "    * 3. --gpus=1 : 훈련에 사용할 GPU의 수를 지정. 여기서는 1개의 GPU 사용\n",
    "    * 4. --aug=ada : Adaptive Discriminator Augmentation (ADA) 기법을 사용하도록 설정\n",
    "    * 5. --target=0.7 : ADA의 목표 값을 설정. 0.7로 설정하면 과도한 증강을 방지하면서 동적 증강을 최대화"
   ]
  },
  {
   "cell_type": "code",
   "execution_count": 27,
   "metadata": {},
   "outputs": [
    {
     "name": "stderr",
     "output_type": "stream",
     "text": [
      "python: can't open file 'd:\\\\project\\\\GAN\\\\3. styleGAN2-ada-pytorch\\\\train.py': [Errno 2] No such file or directory\n"
     ]
    }
   ],
   "source": [
    "!python train.py --outdir=runs --data=./data/stylegan2-dataset.zip --gpus=1 --aug=ada --target=0.6"
   ]
  }
 ],
 "metadata": {
  "kernelspec": {
   "display_name": "Python 3",
   "language": "python",
   "name": "python3"
  },
  "language_info": {
   "codemirror_mode": {
    "name": "ipython",
    "version": 3
   },
   "file_extension": ".py",
   "mimetype": "text/x-python",
   "name": "python",
   "nbconvert_exporter": "python",
   "pygments_lexer": "ipython3",
   "version": "3.10.6"
  }
 },
 "nbformat": 4,
 "nbformat_minor": 2
}
